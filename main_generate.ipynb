{
  "nbformat": 4,
  "nbformat_minor": 0,
  "metadata": {
    "colab": {
      "provenance": [],
      "machine_shape": "hm",
      "collapsed_sections": [
        "X-Tpse8oIffc",
        "PmJ0afWlLCqh",
        "EgE2or0JKqwL"
      ],
      "authorship_tag": "ABX9TyMrEHmUnJPOSskwLCulhqCe",
      "include_colab_link": true
    },
    "kernelspec": {
      "name": "python3",
      "display_name": "Python 3"
    },
    "language_info": {
      "name": "python"
    }
  },
  "cells": [
    {
      "cell_type": "markdown",
      "metadata": {
        "id": "view-in-github",
        "colab_type": "text"
      },
      "source": [
        "<a href=\"https://colab.research.google.com/github/KauaHenSilva/python_predict_MNIST/blob/main/main_generate.ipynb\" target=\"_parent\"><img src=\"https://colab.research.google.com/assets/colab-badge.svg\" alt=\"Open In Colab\"/></a>"
      ]
    },
    {
      "cell_type": "markdown",
      "source": [
        "# MNIST"
      ],
      "metadata": {
        "id": "wkhqWpq3_5-M"
      }
    },
    {
      "cell_type": "code",
      "source": [
        "!pip install tensorflow==2.16.1 --quiet"
      ],
      "metadata": {
        "id": "cQzS2RqZBXTa"
      },
      "execution_count": 56,
      "outputs": []
    },
    {
      "cell_type": "code",
      "source": [
        "import tensorflow as tf\n",
        "import numpy as np\n",
        "import matplotlib.pyplot as plt\n",
        "import sklearn\n",
        "import keras"
      ],
      "metadata": {
        "id": "nav-VfVYBedz"
      },
      "execution_count": 57,
      "outputs": []
    },
    {
      "cell_type": "code",
      "source": [
        "tf.__version__"
      ],
      "metadata": {
        "id": "vVq4gxypBrh1",
        "colab": {
          "base_uri": "https://localhost:8080/",
          "height": 35
        },
        "outputId": "5955909d-563a-42e5-cc3c-d703a46b7fd8"
      },
      "execution_count": 58,
      "outputs": [
        {
          "output_type": "execute_result",
          "data": {
            "text/plain": [
              "'2.16.1'"
            ],
            "application/vnd.google.colaboratory.intrinsic+json": {
              "type": "string"
            }
          },
          "metadata": {},
          "execution_count": 58
        }
      ]
    },
    {
      "cell_type": "code",
      "source": [
        "from tensorflow.keras.datasets import mnist\n",
        "from tensorflow.keras.models import Sequential\n",
        "from tensorflow.keras.layers import InputLayer, Dense, Flatten, Dropout, Conv2D, MaxPooling2D, BatchNormalization\n",
        "from tensorflow.keras.preprocessing.image import ImageDataGenerator\n",
        "from tensorflow.keras import utils as kr_utils\n",
        "from sklearn.model_selection import StratifiedKFold"
      ],
      "metadata": {
        "id": "qjVZsaffB5x4"
      },
      "execution_count": 59,
      "outputs": []
    },
    {
      "cell_type": "code",
      "source": [
        "(x_train, y_train), (x_test, y_test) = mnist.load_data()"
      ],
      "metadata": {
        "id": "NSnFsWHHCpfV"
      },
      "execution_count": 60,
      "outputs": []
    },
    {
      "cell_type": "code",
      "source": [
        "(x_train.shape, x_test.shape), (y_train.shape, y_test.shape)"
      ],
      "metadata": {
        "id": "-j9bufKAC5Qe",
        "colab": {
          "base_uri": "https://localhost:8080/"
        },
        "outputId": "3b4381bf-7f1f-4ec3-e778-275f68e1b2db"
      },
      "execution_count": 61,
      "outputs": [
        {
          "output_type": "execute_result",
          "data": {
            "text/plain": [
              "(((60000, 28, 28), (10000, 28, 28)), ((60000,), (10000,)))"
            ]
          },
          "metadata": {},
          "execution_count": 61
        }
      ]
    },
    {
      "cell_type": "code",
      "source": [
        "plt.imshow(x_train[1000], cmap='gray')\n",
        "plt.title('Classe ' + str(y_train[1000]));"
      ],
      "metadata": {
        "id": "iBUJrOCXDawW",
        "colab": {
          "base_uri": "https://localhost:8080/",
          "height": 452
        },
        "outputId": "7164c479-7b33-424d-cfb7-1ba2ab36e322"
      },
      "execution_count": 62,
      "outputs": [
        {
          "output_type": "display_data",
          "data": {
            "text/plain": [
              "<Figure size 640x480 with 1 Axes>"
            ],
            "image/png": "[encoded data removed]"
          },
          "metadata": {}
        }
      ]
    },
    {
      "cell_type": "code",
      "source": [
        "X_train = x_train.reshape(x_train.shape[0], 28, 28, 1)\n",
        "X_test = x_test.reshape(x_test.shape[0], 28, 28, 1)\n",
        "(x_train.shape, X_train.shape), (x_test.shape, X_test.shape)"
      ],
      "metadata": {
        "id": "N6_-BivwWoDo",
        "colab": {
          "base_uri": "https://localhost:8080/"
        },
        "outputId": "eb36cdcd-c8f7-4e88-e320-fb2fd5e260b1"
      },
      "execution_count": 63,
      "outputs": [
        {
          "output_type": "execute_result",
          "data": {
            "text/plain": [
              "(((60000, 28, 28), (60000, 28, 28, 1)), ((10000, 28, 28), (10000, 28, 28, 1)))"
            ]
          },
          "metadata": {},
          "execution_count": 63
        }
      ]
    },
    {
      "cell_type": "code",
      "source": [
        "X_train = X_train.astype('float32')\n",
        "X_test = X_test.astype('float32')"
      ],
      "metadata": {
        "id": "xFl7c-r_hgwV"
      },
      "execution_count": 64,
      "outputs": []
    },
    {
      "cell_type": "code",
      "source": [
        "X_train /= 255\n",
        "X_test /= 255\n",
        "(X_train.max(), X_test.max()),( X_train.min(), X_test.min())"
      ],
      "metadata": {
        "id": "U98I_l6mXzhB",
        "colab": {
          "base_uri": "https://localhost:8080/"
        },
        "outputId": "24975eb1-f17e-4183-f9e0-b22d32d926b8"
      },
      "execution_count": 65,
      "outputs": [
        {
          "output_type": "execute_result",
          "data": {
            "text/plain": [
              "((1.0, 1.0), (0.0, 0.0))"
            ]
          },
          "metadata": {},
          "execution_count": 65
        }
      ]
    },
    {
      "cell_type": "code",
      "source": [
        "y_train = kr_utils.to_categorical(y_train, 10)\n",
        "y_test = kr_utils.to_categorical(y_test, 10)"
      ],
      "metadata": {
        "id": "np1yCtPaYk3M"
      },
      "execution_count": 66,
      "outputs": []
    },
    {
      "cell_type": "code",
      "source": [
        "gerador_treinamento = ImageDataGenerator(rotation_range=7, horizontal_flip=True, shear_range=0.2, height_shift_range=0.07, zoom_range=0.2)\n",
        "gerador_test = ImageDataGenerator()"
      ],
      "metadata": {
        "id": "Wwcgywf53VpV"
      },
      "execution_count": 67,
      "outputs": []
    },
    {
      "cell_type": "code",
      "source": [
        "base_trein = gerador_treinamento.flow(X_train, y_train, batch_size=128)\n",
        "base_test = gerador_test.flow(X_test, y_test, batch_size=128)"
      ],
      "metadata": {
        "id": "bOAA-p0I4uLR"
      },
      "execution_count": 68,
      "outputs": []
    },
    {
      "cell_type": "code",
      "source": [
        "rede_neural = Sequential()\n",
        "rede_neural.add(InputLayer(shape=(28,28,1)))\n",
        "rede_neural.add(Conv2D(filters=32, kernel_size=(2,2), activation='relu'))\n",
        "rede_neural.add(MaxPooling2D(pool_size=(2,2)))\n",
        "rede_neural.add(Flatten())\n",
        "rede_neural.add(Dense(units=128, activation='relu'))\n",
        "rede_neural.add(Dense(units=10, activation='softmax'))\n",
        "rede_neural.compile(loss='categorical_crossentropy', optimizer='adam', metrics=['accuracy'])"
      ],
      "metadata": {
        "id": "vhKPNIAEyzN2"
      },
      "execution_count": 69,
      "outputs": []
    },
    {
      "cell_type": "code",
      "source": [
        "rede_neural.fit(base_trein, batch_size=128, epochs=5)"
      ],
      "metadata": {
        "id": "StUEpCydho2f",
        "colab": {
          "base_uri": "https://localhost:8080/"
        },
        "outputId": "bea472c0-9e30-4302-e732-851ade9c6bde"
      },
      "execution_count": 70,
      "outputs": [
        {
          "output_type": "stream",
          "name": "stdout",
          "text": [
            "Epoch 1/5\n",
            "\u001b[1m469/469\u001b[0m \u001b[32m━━━━━━━━━━━━━━━━━━━━\u001b[0m\u001b[37m\u001b[0m \u001b[1m13s\u001b[0m 23ms/step - accuracy: 0.7318 - loss: 0.8443\n",
            "Epoch 2/5\n",
            "\u001b[1m469/469\u001b[0m \u001b[32m━━━━━━━━━━━━━━━━━━━━\u001b[0m\u001b[37m\u001b[0m \u001b[1m9s\u001b[0m 19ms/step - accuracy: 0.9073 - loss: 0.2998\n",
            "Epoch 3/5\n",
            "\u001b[1m469/469\u001b[0m \u001b[32m━━━━━━━━━━━━━━━━━━━━\u001b[0m\u001b[37m\u001b[0m \u001b[1m11s\u001b[0m 23ms/step - accuracy: 0.9325 - loss: 0.2165\n",
            "Epoch 4/5\n",
            "\u001b[1m469/469\u001b[0m \u001b[32m━━━━━━━━━━━━━━━━━━━━\u001b[0m\u001b[37m\u001b[0m \u001b[1m11s\u001b[0m 23ms/step - accuracy: 0.9451 - loss: 0.1776\n",
            "Epoch 5/5\n",
            "\u001b[1m469/469\u001b[0m \u001b[32m━━━━━━━━━━━━━━━━━━━━\u001b[0m\u001b[37m\u001b[0m \u001b[1m9s\u001b[0m 19ms/step - accuracy: 0.9504 - loss: 0.1607\n"
          ]
        },
        {
          "output_type": "execute_result",
          "data": {
            "text/plain": [
              "<keras.src.callbacks.history.History at 0x7f352c899450>"
            ]
          },
          "metadata": {},
          "execution_count": 70
        }
      ]
    },
    {
      "cell_type": "code",
      "source": [
        "rede_neural.evaluate(base_test)"
      ],
      "metadata": {
        "colab": {
          "base_uri": "https://localhost:8080/"
        },
        "id": "Xx44rgek7cku",
        "outputId": "c7501821-61b7-4ab8-a531-972b0e79b40e"
      },
      "execution_count": 71,
      "outputs": [
        {
          "output_type": "stream",
          "name": "stdout",
          "text": [
            "\u001b[1m79/79\u001b[0m \u001b[32m━━━━━━━━━━━━━━━━━━━━\u001b[0m\u001b[37m\u001b[0m \u001b[1m1s\u001b[0m 6ms/step - accuracy: 0.9657 - loss: 0.1122\n"
          ]
        },
        {
          "output_type": "execute_result",
          "data": {
            "text/plain": [
              "[0.11034312844276428, 0.9656999707221985]"
            ]
          },
          "metadata": {},
          "execution_count": 71
        }
      ]
    }
  ]
}